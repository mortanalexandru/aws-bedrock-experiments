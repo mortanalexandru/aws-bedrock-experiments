{
 "cells": [
  {
   "cell_type": "markdown",
   "metadata": {},
   "source": [
    "## Experimenting with Bedrock and Langchain for a RAG question-answering application"
   ]
  },
  {
   "cell_type": "code",
   "execution_count": 1,
   "metadata": {},
   "outputs": [
    {
     "name": "stdout",
     "output_type": "stream",
     "text": [
      "Requirement already satisfied: boto3 in /Users/alexandrumortan/anaconda3/lib/python3.11/site-packages (1.34.11)\n",
      "Requirement already satisfied: langchain==0.0.349 in /Users/alexandrumortan/anaconda3/lib/python3.11/site-packages (0.0.349)\n",
      "Requirement already satisfied: faiss-cpu in /Users/alexandrumortan/anaconda3/lib/python3.11/site-packages (1.7.4)\n",
      "Requirement already satisfied: transformers in /Users/alexandrumortan/anaconda3/lib/python3.11/site-packages (4.36.2)\n",
      "Requirement already satisfied: PyYAML>=5.3 in /Users/alexandrumortan/anaconda3/lib/python3.11/site-packages (from langchain==0.0.349) (6.0)\n",
      "Requirement already satisfied: SQLAlchemy<3,>=1.4 in /Users/alexandrumortan/anaconda3/lib/python3.11/site-packages (from langchain==0.0.349) (1.4.39)\n",
      "Requirement already satisfied: aiohttp<4.0.0,>=3.8.3 in /Users/alexandrumortan/anaconda3/lib/python3.11/site-packages (from langchain==0.0.349) (3.8.5)\n",
      "Requirement already satisfied: dataclasses-json<0.7,>=0.5.7 in /Users/alexandrumortan/anaconda3/lib/python3.11/site-packages (from langchain==0.0.349) (0.6.3)\n",
      "Requirement already satisfied: jsonpatch<2.0,>=1.33 in /Users/alexandrumortan/anaconda3/lib/python3.11/site-packages (from langchain==0.0.349) (1.33)\n",
      "Requirement already satisfied: langchain-community<0.1,>=0.0.1 in /Users/alexandrumortan/anaconda3/lib/python3.11/site-packages (from langchain==0.0.349) (0.0.1)\n",
      "Requirement already satisfied: langchain-core<0.1,>=0.0.13 in /Users/alexandrumortan/anaconda3/lib/python3.11/site-packages (from langchain==0.0.349) (0.0.13)\n",
      "Requirement already satisfied: langsmith<0.1.0,>=0.0.63 in /Users/alexandrumortan/anaconda3/lib/python3.11/site-packages (from langchain==0.0.349) (0.0.77)\n",
      "Requirement already satisfied: numpy<2,>=1 in /Users/alexandrumortan/anaconda3/lib/python3.11/site-packages (from langchain==0.0.349) (1.24.3)\n",
      "Requirement already satisfied: pydantic<3,>=1 in /Users/alexandrumortan/anaconda3/lib/python3.11/site-packages (from langchain==0.0.349) (1.10.8)\n",
      "Requirement already satisfied: requests<3,>=2 in /Users/alexandrumortan/anaconda3/lib/python3.11/site-packages (from langchain==0.0.349) (2.31.0)\n",
      "Requirement already satisfied: tenacity<9.0.0,>=8.1.0 in /Users/alexandrumortan/anaconda3/lib/python3.11/site-packages (from langchain==0.0.349) (8.2.2)\n",
      "Requirement already satisfied: botocore<1.35.0,>=1.34.11 in /Users/alexandrumortan/anaconda3/lib/python3.11/site-packages (from boto3) (1.34.11)\n",
      "Requirement already satisfied: jmespath<2.0.0,>=0.7.1 in /Users/alexandrumortan/anaconda3/lib/python3.11/site-packages (from boto3) (0.10.0)\n",
      "Requirement already satisfied: s3transfer<0.11.0,>=0.10.0 in /Users/alexandrumortan/anaconda3/lib/python3.11/site-packages (from boto3) (0.10.0)\n",
      "Requirement already satisfied: filelock in /Users/alexandrumortan/anaconda3/lib/python3.11/site-packages (from transformers) (3.9.0)\n",
      "Requirement already satisfied: huggingface-hub<1.0,>=0.19.3 in /Users/alexandrumortan/anaconda3/lib/python3.11/site-packages (from transformers) (0.19.4)\n",
      "Requirement already satisfied: packaging>=20.0 in /Users/alexandrumortan/anaconda3/lib/python3.11/site-packages (from transformers) (23.2)\n",
      "Requirement already satisfied: regex!=2019.12.17 in /Users/alexandrumortan/anaconda3/lib/python3.11/site-packages (from transformers) (2022.7.9)\n",
      "Requirement already satisfied: tokenizers<0.19,>=0.14 in /Users/alexandrumortan/anaconda3/lib/python3.11/site-packages (from transformers) (0.15.0)\n",
      "Requirement already satisfied: safetensors>=0.3.1 in /Users/alexandrumortan/anaconda3/lib/python3.11/site-packages (from transformers) (0.3.2)\n",
      "Requirement already satisfied: tqdm>=4.27 in /Users/alexandrumortan/anaconda3/lib/python3.11/site-packages (from transformers) (4.65.0)\n",
      "Requirement already satisfied: attrs>=17.3.0 in /Users/alexandrumortan/anaconda3/lib/python3.11/site-packages (from aiohttp<4.0.0,>=3.8.3->langchain==0.0.349) (22.1.0)\n",
      "Requirement already satisfied: charset-normalizer<4.0,>=2.0 in /Users/alexandrumortan/anaconda3/lib/python3.11/site-packages (from aiohttp<4.0.0,>=3.8.3->langchain==0.0.349) (2.0.4)\n",
      "Requirement already satisfied: multidict<7.0,>=4.5 in /Users/alexandrumortan/anaconda3/lib/python3.11/site-packages (from aiohttp<4.0.0,>=3.8.3->langchain==0.0.349) (6.0.2)\n",
      "Requirement already satisfied: async-timeout<5.0,>=4.0.0a3 in /Users/alexandrumortan/anaconda3/lib/python3.11/site-packages (from aiohttp<4.0.0,>=3.8.3->langchain==0.0.349) (4.0.2)\n",
      "Requirement already satisfied: yarl<2.0,>=1.0 in /Users/alexandrumortan/anaconda3/lib/python3.11/site-packages (from aiohttp<4.0.0,>=3.8.3->langchain==0.0.349) (1.8.1)\n",
      "Requirement already satisfied: frozenlist>=1.1.1 in /Users/alexandrumortan/anaconda3/lib/python3.11/site-packages (from aiohttp<4.0.0,>=3.8.3->langchain==0.0.349) (1.3.3)\n",
      "Requirement already satisfied: aiosignal>=1.1.2 in /Users/alexandrumortan/anaconda3/lib/python3.11/site-packages (from aiohttp<4.0.0,>=3.8.3->langchain==0.0.349) (1.2.0)\n",
      "Requirement already satisfied: python-dateutil<3.0.0,>=2.1 in /Users/alexandrumortan/anaconda3/lib/python3.11/site-packages (from botocore<1.35.0,>=1.34.11->boto3) (2.8.2)\n",
      "Requirement already satisfied: urllib3<2.1,>=1.25.4 in /Users/alexandrumortan/anaconda3/lib/python3.11/site-packages (from botocore<1.35.0,>=1.34.11->boto3) (1.26.13)\n",
      "Requirement already satisfied: marshmallow<4.0.0,>=3.18.0 in /Users/alexandrumortan/anaconda3/lib/python3.11/site-packages (from dataclasses-json<0.7,>=0.5.7->langchain==0.0.349) (3.20.1)\n",
      "Requirement already satisfied: typing-inspect<1,>=0.4.0 in /Users/alexandrumortan/anaconda3/lib/python3.11/site-packages (from dataclasses-json<0.7,>=0.5.7->langchain==0.0.349) (0.9.0)\n",
      "Requirement already satisfied: fsspec>=2023.5.0 in /Users/alexandrumortan/anaconda3/lib/python3.11/site-packages (from huggingface-hub<1.0,>=0.19.3->transformers) (2023.12.2)\n",
      "Requirement already satisfied: typing-extensions>=3.7.4.3 in /Users/alexandrumortan/anaconda3/lib/python3.11/site-packages (from huggingface-hub<1.0,>=0.19.3->transformers) (4.8.0)\n",
      "Requirement already satisfied: jsonpointer>=1.9 in /Users/alexandrumortan/anaconda3/lib/python3.11/site-packages (from jsonpatch<2.0,>=1.33->langchain==0.0.349) (2.1)\n",
      "Requirement already satisfied: anyio<5,>=3 in /Users/alexandrumortan/anaconda3/lib/python3.11/site-packages (from langchain-core<0.1,>=0.0.13->langchain==0.0.349) (3.5.0)\n",
      "Requirement already satisfied: idna<4,>=2.5 in /Users/alexandrumortan/anaconda3/lib/python3.11/site-packages (from requests<3,>=2->langchain==0.0.349) (3.4)\n",
      "Requirement already satisfied: certifi>=2017.4.17 in /Users/alexandrumortan/anaconda3/lib/python3.11/site-packages (from requests<3,>=2->langchain==0.0.349) (2023.7.22)\n",
      "Requirement already satisfied: sniffio>=1.1 in /Users/alexandrumortan/anaconda3/lib/python3.11/site-packages (from anyio<5,>=3->langchain-core<0.1,>=0.0.13->langchain==0.0.349) (1.2.0)\n",
      "Requirement already satisfied: six>=1.5 in /Users/alexandrumortan/anaconda3/lib/python3.11/site-packages (from python-dateutil<3.0.0,>=2.1->botocore<1.35.0,>=1.34.11->boto3) (1.16.0)\n",
      "Requirement already satisfied: mypy-extensions>=0.3.0 in /Users/alexandrumortan/anaconda3/lib/python3.11/site-packages (from typing-inspect<1,>=0.4.0->dataclasses-json<0.7,>=0.5.7->langchain==0.0.349) (1.0.0)\n",
      "Requirement already satisfied: amazon-textract-textractor in /Users/alexandrumortan/anaconda3/lib/python3.11/site-packages (1.4.5)\n",
      "Requirement already satisfied: pypdf in /Users/alexandrumortan/anaconda3/lib/python3.11/site-packages (3.17.4)\n",
      "Requirement already satisfied: Pillow in /Users/alexandrumortan/anaconda3/lib/python3.11/site-packages (9.4.0)\n",
      "Requirement already satisfied: XlsxWriter<3.1,>=3.0 in /Users/alexandrumortan/anaconda3/lib/python3.11/site-packages (from amazon-textract-textractor) (3.0.9)\n",
      "Requirement already satisfied: amazon-textract-caller<2,>=0.0.27 in /Users/alexandrumortan/anaconda3/lib/python3.11/site-packages (from amazon-textract-textractor) (0.2.1)\n",
      "Requirement already satisfied: amazon-textract-response-parser<2,>=0.1.45 in /Users/alexandrumortan/anaconda3/lib/python3.11/site-packages (from amazon-textract-textractor) (1.0.2)\n",
      "Requirement already satisfied: editdistance==0.6.2 in /Users/alexandrumortan/anaconda3/lib/python3.11/site-packages (from amazon-textract-textractor) (0.6.2)\n",
      "Requirement already satisfied: tabulate<0.10,>=0.9 in /Users/alexandrumortan/anaconda3/lib/python3.11/site-packages (from amazon-textract-textractor) (0.9.0)\n",
      "Requirement already satisfied: boto3>=1.26.35 in /Users/alexandrumortan/anaconda3/lib/python3.11/site-packages (from amazon-textract-caller<2,>=0.0.27->amazon-textract-textractor) (1.34.11)\n",
      "Requirement already satisfied: botocore in /Users/alexandrumortan/anaconda3/lib/python3.11/site-packages (from amazon-textract-caller<2,>=0.0.27->amazon-textract-textractor) (1.34.11)\n",
      "Requirement already satisfied: marshmallow<4,>=3.14 in /Users/alexandrumortan/anaconda3/lib/python3.11/site-packages (from amazon-textract-response-parser<2,>=0.1.45->amazon-textract-textractor) (3.20.1)\n",
      "Requirement already satisfied: jmespath<2.0.0,>=0.7.1 in /Users/alexandrumortan/anaconda3/lib/python3.11/site-packages (from boto3>=1.26.35->amazon-textract-caller<2,>=0.0.27->amazon-textract-textractor) (0.10.0)\n",
      "Requirement already satisfied: s3transfer<0.11.0,>=0.10.0 in /Users/alexandrumortan/anaconda3/lib/python3.11/site-packages (from boto3>=1.26.35->amazon-textract-caller<2,>=0.0.27->amazon-textract-textractor) (0.10.0)\n",
      "Requirement already satisfied: python-dateutil<3.0.0,>=2.1 in /Users/alexandrumortan/anaconda3/lib/python3.11/site-packages (from botocore->amazon-textract-caller<2,>=0.0.27->amazon-textract-textractor) (2.8.2)\n",
      "Requirement already satisfied: urllib3<2.1,>=1.25.4 in /Users/alexandrumortan/anaconda3/lib/python3.11/site-packages (from botocore->amazon-textract-caller<2,>=0.0.27->amazon-textract-textractor) (1.26.13)\n",
      "Requirement already satisfied: packaging>=17.0 in /Users/alexandrumortan/anaconda3/lib/python3.11/site-packages (from marshmallow<4,>=3.14->amazon-textract-response-parser<2,>=0.1.45->amazon-textract-textractor) (23.2)\n",
      "Requirement already satisfied: six>=1.5 in /Users/alexandrumortan/anaconda3/lib/python3.11/site-packages (from python-dateutil<3.0.0,>=2.1->botocore->amazon-textract-caller<2,>=0.0.27->amazon-textract-textractor) (1.16.0)\n"
     ]
    }
   ],
   "source": [
    "!pip install -U boto3 langchain==0.0.349 faiss-cpu transformers\n",
    "!pip install amazon-textract-textractor pypdf Pillow "
   ]
  },
  {
   "cell_type": "markdown",
   "metadata": {},
   "source": [
    "**You will need an AWS account with access to the models tested bellow**"
   ]
  },
  {
   "cell_type": "code",
   "execution_count": 2,
   "metadata": {},
   "outputs": [
    {
     "name": "stdout",
     "output_type": "stream",
     "text": [
      "env: AWS_PROFILE=puzzle\n"
     ]
    }
   ],
   "source": [
    "%env AWS_PROFILE=puzzle"
   ]
  },
  {
   "cell_type": "code",
   "execution_count": 3,
   "metadata": {},
   "outputs": [
    {
     "name": "stdout",
     "output_type": "stream",
     "text": [
      "puzzle\n"
     ]
    }
   ],
   "source": [
    "import boto3\n",
    "import os\n",
    "\n",
    "boto3.setup_default_session(profile_name='puzzle')\n",
    "\n",
    "br = boto3.client('bedrock')\n",
    "bedrock = boto3.client('bedrock-runtime')\n",
    "print(os.getenv('AWS_PROFILE'))"
   ]
  },
  {
   "cell_type": "markdown",
   "metadata": {},
   "source": [
    "Loading some test documents"
   ]
  },
  {
   "cell_type": "code",
   "execution_count": 4,
   "metadata": {},
   "outputs": [
    {
     "data": {
      "text/plain": [
       "[Document(page_content='1. Features, Evaluation, and Treatment of Coronavirus (COVID-19).\\r\\n\\r\\nCascella M(1), Rajnik M, Aleem A(2), Dulebohn SC, Di Napoli R(3).\\r\\n\\r\\nIn: StatPearls [Internet]. Treasure Island (FL): StatPearls Publishing; 2023 \\r\\nJan–.\\r\\n2023 Aug 18.\\r\\n\\r\\nAuthor information:\\r\\n(1)Istituto Nazionale Tumori - IRCCS - Fondazione Pascale, Via Mariano Semmola \\r\\n80100, Napoli. Italy\\r\\n(2)Lehigh Valley Health Network, Allentown, USA\\r\\n(3)Institut Jules Bordet -Brussels, Belgium\\r\\n\\r\\nCoronavirus disease 2019 (COVID-19) is a highly contagious viral illness caused \\r\\nby severe acute respiratory syndrome coronavirus 2 (SARS-CoV-2). COVID-19 has \\r\\nhad a catastrophic effect on the world, resulting in more than 6 million deaths \\r\\nworldwide. After the first cases of this predominantly respiratory viral illness \\r\\nwere reported in Wuhan, Hubei Province, China, in late December 2019, SARS-CoV-2 \\r\\nrapidly disseminated worldwide. This compelled the World Health Organization \\r\\n(WHO) to declare it a global pandemic on March 11, 2020. Even though substantial \\r\\nprogress in clinical research has led to a better understanding of SARS-CoV-2, \\r\\nmany countries continue to have outbreaks of this viral illness. These outbreaks \\r\\nare primarily attributed to the emergence of mutant variants of the virus.\\xa0Like \\r\\nother RNA viruses, SARS-CoV-2 adapts with genetic evolution and developing \\r\\nmutations. This results in mutant variants that may have different \\r\\ncharacteristics than their ancestral strains. Several variants of SARS-CoV-2 \\r\\nhave been described during the course of this pandemic, among which only a few \\r\\nare considered variants of concern (VOCs). Based on the epidemiological update \\r\\nby the WHO,\\xa05 SARS-CoV-2 VOCs have been identified since the beginning of the \\r\\npandemic: Alpha (B.1.1.7): First variant of concern, which was described in the \\r\\nUnited Kingdom (UK) in late December 2020. Beta (B.1.351): First reported in \\r\\nSouth Africa in December 2020. Gamma (P.1): First reported in Brazil in early \\r\\nJanuary 2021. Delta (B.1.617.2):\\xa0First reported in India in December 2020. \\r\\nOmicron\\xa0(B.1.1.529): First reported in South Africa in November 2021. Despite \\r\\nthe unprecedented speed of vaccine development against the prevention of \\r\\nCOVID-19 and robust global mass vaccination efforts, the emergence of new \\r\\nSARS-CoV-2 variants threatens to overturn the progress made in limiting the \\r\\nspread of this disease.\\xa0This review aims to comprehensively describe the \\r\\netiology, epidemiology, pathophysiology, and clinical features of COVID-19. This \\r\\nreview also provides an overview of the different variants of SARS-CoV-2 and the \\r\\nguideline-recommended treatment (as of January 2023) for managing this disease.\\xa0\\r\\n\\r\\nCopyright © 2023, StatPearls Publishing LLC.\\r\\n\\r\\nPMID: 32150360\\r\\n\\r\\nConflict of interest statement: Disclosure: Marco Cascella declares no relevant \\r\\nfinancial relationships with ineligible companies. Disclosure: Michael Rajnik \\r\\ndeclares no relevant financial relationships with ineligible companies. \\r\\nDisclosure: Abdul Aleem declares no relevant financial relationships with \\r\\nineligible companies. Disclosure: Scott Dulebohn declares no relevant financial \\r\\nrelationships with ineligible companies. Disclosure: Raffaela Di Napoli declares \\r\\nno relevant financial relationships with ineligible companies.', metadata={'source': 'local', 'title': 'abstract-32150360.txt'}),\n",
       " Document(page_content='1. Diabetes.\\r\\n\\r\\nSapra A(1), Bhandari P(1).\\r\\n\\r\\nIn: StatPearls [Internet]. Treasure Island (FL): StatPearls Publishing; 2023 \\r\\nJan–.\\r\\n2023 Jun 21.\\r\\n\\r\\nAuthor information:\\r\\n(1)Southern Illinois University School of Medicine\\r\\n\\r\\nDiabetes mellitus is taken from the Greek word diabetes, meaning siphon - to \\r\\npass through and the Latin word\\xa0mellitus\\xa0meaning sweet. A review of the history \\r\\nshows that the term \"diabetes\" was first used by Apollonius of Memphis around \\r\\n250\\xa0to 300 BC. Ancient Greek, Indian, and Egyptian civilizations discovered the \\r\\nsweet nature of urine in this condition, and hence the propagation of the word \\r\\nDiabetes Mellitus came into being. Mering and Minkowski, in 1889, discovered the \\r\\nrole of the pancreas in the pathogenesis of diabetes. In 1922 Banting, Best, and \\r\\nCollip purified the hormone insulin from the pancreas of cows at the University \\r\\nof Toronto, leading to the availability of an effective treatment for diabetes \\r\\nin 1922. Over the years, exceptional work has taken place, and multiple \\r\\ndiscoveries, as well as management strategies, have been created to tackle this \\r\\ngrowing problem. Unfortunately, even today, diabetes is one of the most common \\r\\nchronic diseases in the country and worldwide. In the US, it remains as the \\r\\nseventh leading cause of death. Diabetes mellitus (DM) is a metabolic disease, \\r\\ninvolving inappropriately elevated blood glucose levels. DM has several \\r\\ncategories, including type 1, type 2, maturity-onset diabetes of the young \\r\\n(MODY), gestational diabetes, neonatal diabetes, and secondary causes due to \\r\\nendocrinopathies, steroid use, etc. The main subtypes of DM are Type 1 diabetes \\r\\nmellitus (T1DM) and Type 2 diabetes mellitus (T2DM), which classically result \\r\\nfrom defective insulin secretion (T1DM) and/or action (T2DM). T1DM presents in \\r\\nchildren or adolescents, while T2DM is thought to affect middle-aged and older \\r\\nadults who have prolonged hyperglycemia due to poor lifestyle and dietary \\r\\nchoices. The pathogenesis for T1DM and T2DM is drastically different, and \\r\\ntherefore each type has various etiologies, presentations, and treatments.\\r\\n\\r\\nCopyright © 2023, StatPearls Publishing LLC.\\r\\n\\r\\nPMID: 31855345\\r\\n\\r\\nConflict of interest statement: Disclosure: Amit Sapra declares no relevant \\r\\nfinancial relationships with ineligible companies. Disclosure: Priyanka Bhandari \\r\\ndeclares no relevant financial relationships with ineligible companies.', metadata={'source': 'local', 'title': 'abstract-31855345.txt'}),\n",
       " Document(page_content='1. Trop Med Int Health. 2020 Mar;25(3):278-280. doi: 10.1111/tmi.13383. Epub 2020 \\r\\nFeb 16.\\r\\n\\r\\nThe COVID-19 epidemic.\\r\\n\\r\\nVelavan TP(1)(2)(3), Meyer CG(1)(2)(3).\\r\\n\\r\\nAuthor information:\\r\\n(1)Institute of Tropical Medicine, Universitätsklinikum Tübingen, Germany.\\r\\n(2)Vietnamese German Center for Medical Research, Hanoi, Vietnam.\\r\\n(3)Faculty of Medicine, Duy Tan University, Da Nang, Vietnam.\\r\\n\\r\\nDOI: 10.1111/tmi.13383\\r\\nPMCID: PMC7169770\\r\\nPMID: 32052514 [Indexed for MEDLINE]', metadata={'source': 'local', 'title': 'abstract-32052514.txt'})]"
      ]
     },
     "execution_count": 4,
     "metadata": {},
     "output_type": "execute_result"
    }
   ],
   "source": [
    "from langchain.docstore.document import Document\n",
    "\n",
    "files = [f for f in os.listdir(\"./sample-data/\")]\n",
    "docs = []\n",
    "for file in files:\n",
    "    with open(\"./sample-data/\" + file, 'rb') as f:\n",
    "        docs.append(Document(page_content=f.read(), metadata={\"source\": \"local\", \"title\": file}))\n",
    "\n",
    "docs"
   ]
  },
  {
   "cell_type": "markdown",
   "metadata": {},
   "source": [
    "Creating an in-memory vector database"
   ]
  },
  {
   "cell_type": "code",
   "execution_count": 5,
   "metadata": {},
   "outputs": [],
   "source": [
    "from langchain.embeddings import BedrockEmbeddings\n",
    "from langchain.vectorstores import FAISS\n",
    "\n",
    "embeddings = BedrockEmbeddings(client=bedrock,model_id=\"amazon.titan-embed-text-v1\")\n",
    "vector_db = FAISS.from_documents(documents=docs, embedding=embeddings)"
   ]
  },
  {
   "cell_type": "markdown",
   "metadata": {},
   "source": [
    "Testing the in-memory database and creating a retriever (wrapper on top to be used by langchain). MMR stads for \n",
    "\n",
    "**Maximal Marginal Relevance**\n",
    "\n",
    "MMR considers the similarity of keywords/keyphrases with the document, along with the similarity of already selected keywords and keyphrases."
   ]
  },
  {
   "cell_type": "code",
   "execution_count": 6,
   "metadata": {},
   "outputs": [
    {
     "data": {
      "text/plain": [
       "[Document(page_content='1. Diabetes.\\r\\n\\r\\nSapra A(1), Bhandari P(1).\\r\\n\\r\\nIn: StatPearls [Internet]. Treasure Island (FL): StatPearls Publishing; 2023 \\r\\nJan–.\\r\\n2023 Jun 21.\\r\\n\\r\\nAuthor information:\\r\\n(1)Southern Illinois University School of Medicine\\r\\n\\r\\nDiabetes mellitus is taken from the Greek word diabetes, meaning siphon - to \\r\\npass through and the Latin word\\xa0mellitus\\xa0meaning sweet. A review of the history \\r\\nshows that the term \"diabetes\" was first used by Apollonius of Memphis around \\r\\n250\\xa0to 300 BC. Ancient Greek, Indian, and Egyptian civilizations discovered the \\r\\nsweet nature of urine in this condition, and hence the propagation of the word \\r\\nDiabetes Mellitus came into being. Mering and Minkowski, in 1889, discovered the \\r\\nrole of the pancreas in the pathogenesis of diabetes. In 1922 Banting, Best, and \\r\\nCollip purified the hormone insulin from the pancreas of cows at the University \\r\\nof Toronto, leading to the availability of an effective treatment for diabetes \\r\\nin 1922. Over the years, exceptional work has taken place, and multiple \\r\\ndiscoveries, as well as management strategies, have been created to tackle this \\r\\ngrowing problem. Unfortunately, even today, diabetes is one of the most common \\r\\nchronic diseases in the country and worldwide. In the US, it remains as the \\r\\nseventh leading cause of death. Diabetes mellitus (DM) is a metabolic disease, \\r\\ninvolving inappropriately elevated blood glucose levels. DM has several \\r\\ncategories, including type 1, type 2, maturity-onset diabetes of the young \\r\\n(MODY), gestational diabetes, neonatal diabetes, and secondary causes due to \\r\\nendocrinopathies, steroid use, etc. The main subtypes of DM are Type 1 diabetes \\r\\nmellitus (T1DM) and Type 2 diabetes mellitus (T2DM), which classically result \\r\\nfrom defective insulin secretion (T1DM) and/or action (T2DM). T1DM presents in \\r\\nchildren or adolescents, while T2DM is thought to affect middle-aged and older \\r\\nadults who have prolonged hyperglycemia due to poor lifestyle and dietary \\r\\nchoices. The pathogenesis for T1DM and T2DM is drastically different, and \\r\\ntherefore each type has various etiologies, presentations, and treatments.\\r\\n\\r\\nCopyright © 2023, StatPearls Publishing LLC.\\r\\n\\r\\nPMID: 31855345\\r\\n\\r\\nConflict of interest statement: Disclosure: Amit Sapra declares no relevant \\r\\nfinancial relationships with ineligible companies. Disclosure: Priyanka Bhandari \\r\\ndeclares no relevant financial relationships with ineligible companies.', metadata={'source': 'local', 'title': 'abstract-31855345.txt'}),\n",
       " Document(page_content='1. Features, Evaluation, and Treatment of Coronavirus (COVID-19).\\r\\n\\r\\nCascella M(1), Rajnik M, Aleem A(2), Dulebohn SC, Di Napoli R(3).\\r\\n\\r\\nIn: StatPearls [Internet]. Treasure Island (FL): StatPearls Publishing; 2023 \\r\\nJan–.\\r\\n2023 Aug 18.\\r\\n\\r\\nAuthor information:\\r\\n(1)Istituto Nazionale Tumori - IRCCS - Fondazione Pascale, Via Mariano Semmola \\r\\n80100, Napoli. Italy\\r\\n(2)Lehigh Valley Health Network, Allentown, USA\\r\\n(3)Institut Jules Bordet -Brussels, Belgium\\r\\n\\r\\nCoronavirus disease 2019 (COVID-19) is a highly contagious viral illness caused \\r\\nby severe acute respiratory syndrome coronavirus 2 (SARS-CoV-2). COVID-19 has \\r\\nhad a catastrophic effect on the world, resulting in more than 6 million deaths \\r\\nworldwide. After the first cases of this predominantly respiratory viral illness \\r\\nwere reported in Wuhan, Hubei Province, China, in late December 2019, SARS-CoV-2 \\r\\nrapidly disseminated worldwide. This compelled the World Health Organization \\r\\n(WHO) to declare it a global pandemic on March 11, 2020. Even though substantial \\r\\nprogress in clinical research has led to a better understanding of SARS-CoV-2, \\r\\nmany countries continue to have outbreaks of this viral illness. These outbreaks \\r\\nare primarily attributed to the emergence of mutant variants of the virus.\\xa0Like \\r\\nother RNA viruses, SARS-CoV-2 adapts with genetic evolution and developing \\r\\nmutations. This results in mutant variants that may have different \\r\\ncharacteristics than their ancestral strains. Several variants of SARS-CoV-2 \\r\\nhave been described during the course of this pandemic, among which only a few \\r\\nare considered variants of concern (VOCs). Based on the epidemiological update \\r\\nby the WHO,\\xa05 SARS-CoV-2 VOCs have been identified since the beginning of the \\r\\npandemic: Alpha (B.1.1.7): First variant of concern, which was described in the \\r\\nUnited Kingdom (UK) in late December 2020. Beta (B.1.351): First reported in \\r\\nSouth Africa in December 2020. Gamma (P.1): First reported in Brazil in early \\r\\nJanuary 2021. Delta (B.1.617.2):\\xa0First reported in India in December 2020. \\r\\nOmicron\\xa0(B.1.1.529): First reported in South Africa in November 2021. Despite \\r\\nthe unprecedented speed of vaccine development against the prevention of \\r\\nCOVID-19 and robust global mass vaccination efforts, the emergence of new \\r\\nSARS-CoV-2 variants threatens to overturn the progress made in limiting the \\r\\nspread of this disease.\\xa0This review aims to comprehensively describe the \\r\\netiology, epidemiology, pathophysiology, and clinical features of COVID-19. This \\r\\nreview also provides an overview of the different variants of SARS-CoV-2 and the \\r\\nguideline-recommended treatment (as of January 2023) for managing this disease.\\xa0\\r\\n\\r\\nCopyright © 2023, StatPearls Publishing LLC.\\r\\n\\r\\nPMID: 32150360\\r\\n\\r\\nConflict of interest statement: Disclosure: Marco Cascella declares no relevant \\r\\nfinancial relationships with ineligible companies. Disclosure: Michael Rajnik \\r\\ndeclares no relevant financial relationships with ineligible companies. \\r\\nDisclosure: Abdul Aleem declares no relevant financial relationships with \\r\\nineligible companies. Disclosure: Scott Dulebohn declares no relevant financial \\r\\nrelationships with ineligible companies. Disclosure: Raffaela Di Napoli declares \\r\\nno relevant financial relationships with ineligible companies.', metadata={'source': 'local', 'title': 'abstract-32150360.txt'}),\n",
       " Document(page_content='1. Trop Med Int Health. 2020 Mar;25(3):278-280. doi: 10.1111/tmi.13383. Epub 2020 \\r\\nFeb 16.\\r\\n\\r\\nThe COVID-19 epidemic.\\r\\n\\r\\nVelavan TP(1)(2)(3), Meyer CG(1)(2)(3).\\r\\n\\r\\nAuthor information:\\r\\n(1)Institute of Tropical Medicine, Universitätsklinikum Tübingen, Germany.\\r\\n(2)Vietnamese German Center for Medical Research, Hanoi, Vietnam.\\r\\n(3)Faculty of Medicine, Duy Tan University, Da Nang, Vietnam.\\r\\n\\r\\nDOI: 10.1111/tmi.13383\\r\\nPMCID: PMC7169770\\r\\nPMID: 32052514 [Indexed for MEDLINE]', metadata={'source': 'local', 'title': 'abstract-32052514.txt'})]"
      ]
     },
     "execution_count": 6,
     "metadata": {},
     "output_type": "execute_result"
    }
   ],
   "source": [
    "query = \"What is diabetes?\"\n",
    "retriever = vector_db.as_retriever(search_type='mmr', search_kwargs={\"k\": 3})\n",
    "relevant_docs = retriever.get_relevant_documents(query)   \n",
    "relevant_docs"
   ]
  },
  {
   "cell_type": "markdown",
   "metadata": {},
   "source": [
    "Checking what text models does our account have access to"
   ]
  },
  {
   "cell_type": "code",
   "execution_count": 11,
   "metadata": {},
   "outputs": [
    {
     "name": "stdout",
     "output_type": "stream",
     "text": [
      "amazon.titan-text-express-v1:0:8k\n",
      "amazon.titan-text-express-v1\n",
      "anthropic.claude-instant-v1\n",
      "anthropic.claude-v2:1:18k\n",
      "anthropic.claude-v2:1:200k\n",
      "anthropic.claude-v2:1\n",
      "anthropic.claude-v2\n"
     ]
    }
   ],
   "source": [
    "resp = br.list_foundation_models(\n",
    "    byOutputModality='TEXT'\n",
    ")\n",
    "for model in resp['modelSummaries']:\n",
    "    print(model['modelId'])"
   ]
  },
  {
   "cell_type": "markdown",
   "metadata": {},
   "source": [
    "Creating the PromptTemplate and the Bedrock client and the entire chain which connects the retriever to the LLM client. \"stuff\" for a type name is just amazing. You can read more about it here [What is chain_type='stuff'?](https://python.langchain.com/docs/modules/chains/document/stuff) "
   ]
  },
  {
   "cell_type": "code",
   "execution_count": 8,
   "metadata": {},
   "outputs": [],
   "source": [
    "from langchain.chains import RetrievalQA\n",
    "from langchain.llms import Bedrock\n",
    "from langchain.prompts import PromptTemplate\n",
    "\n",
    "template = \"\"\"\n",
    "\n",
    "Answer the question as truthfully as possible strictly using only the provided text, and if the answer is not contained within the text, say \"I don't know\". Skip any preamble text and reasoning and give just the answer.\n",
    "\n",
    "<text>{context}</text>\n",
    "<question>{question}</question>\n",
    "<answer>\"\"\"\n",
    "\n",
    "qa_prompt = PromptTemplate(template=template, input_variables=[\"context\",\"question\"])\n",
    "\n",
    "chain_type_kwargs = { \"prompt\": qa_prompt, \"verbose\": False }\n",
    "\n",
    "bedrock_llm = Bedrock(client=bedrock, model_id=\"amazon.titan-text-express-v1\")\n",
    "qa = RetrievalQA.from_chain_type(\n",
    "    llm=bedrock_llm, \n",
    "    chain_type=\"stuff\", \n",
    "    retriever=retriever,\n",
    "    chain_type_kwargs=chain_type_kwargs,\n",
    "    verbose=False\n",
    ")\n"
   ]
  },
  {
   "cell_type": "markdown",
   "metadata": {},
   "source": [
    "### Now we test"
   ]
  },
  {
   "cell_type": "code",
   "execution_count": 9,
   "metadata": {},
   "outputs": [
    {
     "name": "stdout",
     "output_type": "stream",
     "text": [
      "A metabolic disease, involving inappropriately elevated blood glucose levels.</answer>\n"
     ]
    }
   ],
   "source": [
    "question = \"What is diabetes?\"\n",
    "result = qa.run(question)\n",
    "print(result.strip())"
   ]
  },
  {
   "cell_type": "code",
   "execution_count": 10,
   "metadata": {},
   "outputs": [
    {
     "name": "stdout",
     "output_type": "stream",
     "text": [
      "6 million deaths worldwide</answer>\n"
     ]
    }
   ],
   "source": [
    "question = \"How many deaths did Covid cause worldwide?\"\n",
    "result = qa.run(question)\n",
    "print(result.strip())"
   ]
  },
  {
   "cell_type": "markdown",
   "metadata": {},
   "source": [
    "**Changing regions to test more models since in EU we have laws**"
   ]
  },
  {
   "cell_type": "code",
   "execution_count": 23,
   "metadata": {},
   "outputs": [
    {
     "name": "stdout",
     "output_type": "stream",
     "text": [
      "amazon.titan-tg1-large\n",
      "amazon.titan-text-lite-v1:0:4k\n",
      "amazon.titan-text-lite-v1\n",
      "amazon.titan-text-express-v1:0:8k\n",
      "amazon.titan-text-express-v1\n",
      "ai21.j2-grande-instruct\n",
      "ai21.j2-jumbo-instruct\n",
      "ai21.j2-mid\n",
      "ai21.j2-mid-v1\n",
      "ai21.j2-ultra\n",
      "ai21.j2-ultra-v1\n",
      "anthropic.claude-instant-v1:2:100k\n",
      "anthropic.claude-instant-v1\n",
      "anthropic.claude-v1\n",
      "anthropic.claude-v2:0:18k\n",
      "anthropic.claude-v2:0:100k\n",
      "anthropic.claude-v2:1:18k\n",
      "anthropic.claude-v2:1:200k\n",
      "anthropic.claude-v2:1\n",
      "anthropic.claude-v2\n",
      "cohere.command-text-v14:7:4k\n",
      "cohere.command-text-v14\n",
      "cohere.command-light-text-v14:7:4k\n",
      "cohere.command-light-text-v14\n",
      "meta.llama2-13b-chat-v1:0:4k\n",
      "meta.llama2-13b-chat-v1\n",
      "meta.llama2-70b-chat-v1:0:4k\n",
      "meta.llama2-70b-chat-v1\n",
      "meta.llama2-13b-v1:0:4k\n",
      "meta.llama2-13b-v1\n",
      "meta.llama2-70b-v1:0:4k\n",
      "meta.llama2-70b-v1\n"
     ]
    }
   ],
   "source": [
    "boto3.setup_default_session(profile_name='puzzle', region_name='us-east-1')\n",
    "\n",
    "br = boto3.client('bedrock')\n",
    "\n",
    "resp = br.list_foundation_models(\n",
    "    byOutputModality='TEXT'\n",
    ")\n",
    "for model in resp['modelSummaries']:\n",
    "    print(model['modelId'])"
   ]
  },
  {
   "cell_type": "markdown",
   "metadata": {},
   "source": [
    "**Testing the Llama 2 Chat 13 billion params from Meta**"
   ]
  },
  {
   "cell_type": "code",
   "execution_count": 30,
   "metadata": {},
   "outputs": [],
   "source": [
    "from langchain.chains import RetrievalQA\n",
    "from langchain.llms import Bedrock\n",
    "from langchain.prompts import PromptTemplate\n",
    "\n",
    "template = \"\"\"\n",
    "\n",
    "Answer the question as truthfully as possible strictly using only the provided text, and if the answer is not contained within the text, say \"I don't know\". Skip any preamble text and reasoning and give just the answer.\n",
    "\n",
    "<text>{context}</text>\n",
    "<question>{question}</question>\n",
    "<answer>\"\"\"\n",
    "\n",
    "bedrock = boto3.client('bedrock-runtime') # new client in US East 1\n",
    "\n",
    "qa_prompt = PromptTemplate(template=template, input_variables=[\"context\",\"question\"])\n",
    "\n",
    "chain_type_kwargs = { \"prompt\": qa_prompt, \"verbose\": False }\n",
    "\n",
    "bedrock_llm = Bedrock(client=bedrock, model_id=\"meta.llama2-13b-chat-v1\")\n",
    "qa = RetrievalQA.from_chain_type(\n",
    "    llm=bedrock_llm, \n",
    "    chain_type=\"stuff\", \n",
    "    retriever=retriever,\n",
    "    chain_type_kwargs=chain_type_kwargs,\n",
    "    verbose=False\n",
    ")"
   ]
  },
  {
   "cell_type": "code",
   "execution_count": 32,
   "metadata": {},
   "outputs": [
    {
     "name": "stdout",
     "output_type": "stream",
     "text": [
      "Diabetes mellitus is a metabolic disease involving inappropriately elevated blood glucose levels.</answer>\n"
     ]
    }
   ],
   "source": [
    "question = \"What is diabetes?\"\n",
    "result = qa.run(question)\n",
    "print(result.strip())"
   ]
  },
  {
   "cell_type": "code",
   "execution_count": 33,
   "metadata": {},
   "outputs": [
    {
     "name": "stdout",
     "output_type": "stream",
     "text": [
      "6 million deaths worldwide</answer>\n"
     ]
    }
   ],
   "source": [
    "question = \"How many deaths did Covid cause worldwide?\"\n",
    "result = qa.run(question)\n",
    "print(result.strip())"
   ]
  },
  {
   "cell_type": "markdown",
   "metadata": {},
   "source": [
    "**Testing the Llama 2 Chat 70 billion params from Meta**"
   ]
  },
  {
   "cell_type": "code",
   "execution_count": 37,
   "metadata": {},
   "outputs": [],
   "source": [
    "from langchain.chains import RetrievalQA\n",
    "from langchain.llms import Bedrock\n",
    "from langchain.prompts import PromptTemplate\n",
    "\n",
    "template = \"\"\"\n",
    "\n",
    "Answer the question as truthfully as possible strictly using only the provided text, and if the answer is not contained within the text, say \"I don't know\". Skip any preamble text and reasoning and give just the answer.\n",
    "\n",
    "<text>{context}</text>\n",
    "<question>{question}</question>\n",
    "<answer>\"\"\"\n",
    "\n",
    "bedrock = boto3.client('bedrock-runtime') # new client in US East 1\n",
    "\n",
    "qa_prompt = PromptTemplate(template=template, input_variables=[\"context\",\"question\"])\n",
    "\n",
    "chain_type_kwargs = { \"prompt\": qa_prompt, \"verbose\": False }\n",
    "\n",
    "bedrock_llm = Bedrock(client=bedrock, model_id=\"meta.llama2-70b-chat-v1\")\n",
    "qa = RetrievalQA.from_chain_type(\n",
    "    llm=bedrock_llm, \n",
    "    chain_type=\"stuff\", \n",
    "    retriever=retriever,\n",
    "    chain_type_kwargs=chain_type_kwargs,\n",
    "    verbose=False\n",
    ")"
   ]
  },
  {
   "cell_type": "code",
   "execution_count": 38,
   "metadata": {},
   "outputs": [
    {
     "name": "stdout",
     "output_type": "stream",
     "text": [
      "Diabetes mellitus is a metabolic disease, involving inappropriately elevated blood glucose levels.</answer>\n"
     ]
    }
   ],
   "source": [
    "question = \"What is diabetes?\"\n",
    "result = qa.run(question)\n",
    "print(result.strip())"
   ]
  },
  {
   "cell_type": "code",
   "execution_count": 39,
   "metadata": {},
   "outputs": [
    {
     "name": "stdout",
     "output_type": "stream",
     "text": [
      "Over 6 million deaths worldwide</answer>\n"
     ]
    }
   ],
   "source": [
    "question = \"How many deaths did Covid cause worldwide?\"\n",
    "result = qa.run(question)\n",
    "print(result.strip())"
   ]
  },
  {
   "cell_type": "markdown",
   "metadata": {},
   "source": [
    "AWS Bedrock Pricing (https://aws.amazon.com/bedrock/pricing/)"
   ]
  }
 ],
 "metadata": {
  "kernelspec": {
   "display_name": "base",
   "language": "python",
   "name": "python3"
  },
  "language_info": {
   "codemirror_mode": {
    "name": "ipython",
    "version": 3
   },
   "file_extension": ".py",
   "mimetype": "text/x-python",
   "name": "python",
   "nbconvert_exporter": "python",
   "pygments_lexer": "ipython3",
   "version": "3.11.5"
  }
 },
 "nbformat": 4,
 "nbformat_minor": 2
}
